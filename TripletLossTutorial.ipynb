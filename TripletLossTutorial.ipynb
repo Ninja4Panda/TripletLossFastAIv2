{
 "cells": [
  {
   "cell_type": "markdown",
   "id": "41645725",
   "metadata": {},
   "source": [
    "# Tutorial: TripletLoss for re-identification using FastAI v2\n",
    "\n",
    "This tutorial demonstrates the use of the `TripleLoss` loss function in FastAI v2 (running over Pytorch). TripletLoss is one of the leading ways to match an image (or sound or other signal) with a large database of images, even if there are very few matches for that particular input. Joint-embedding networks (aka Twin or Siamese networks) are a common alternative for this \"low k-shot\" challenge. According to [that article I read](tk), triplet loss outperformed twin networks in all of the tk studies where both approaches were tried. Another option for re-identification is Scale Invariant Feature Transform (SIFT) which is implemented in OpenCV. I haven't seen any papers comparing SIFT and statistical ML techniques in real-world tasks. \n",
    "\n",
    "The tutorial walks you through:\n",
    "\n",
    "- Creating the necessary conda environment\n",
    "- Downloading and expanding the MNIST dataset of handwritten digits\n",
    "- Creating and training a model using triplet loss\n",
    "- Applying this model to a few images of a new glyph (a hand-drawn star)\n",
    "- Finding the closest neighbors to the new images\n",
    "- Visualizing that the model tightly clusters the new glyph\n",
    "- Demonstrating that the model can be used for re-identification of the new glyph\n",
    "\n",
    "MNIST is an easy problem for modern statistical ML, with relatively small data and a small input size. This makes it a good candidate for a tutorial. I will try to highlight the places where you'll need to alter parameters when faced with a more realistic task, like animal re-identification. \n",
    "\n",
    "The code assumes that you have a CUDA-accelerated GPU for training and inferencing. The tutorial runs quickly on a 2080 (about 30 seconds per epoch during training, about 20ms to inference) but runs _much_ slower on a mobile GPU like a GeForce GTX 1650 (30 minutes per epoch on my Surface Book 3). I assume that porting it to CPU wouldn't be difficult, but I think it would be quite slow. If you don't have a local GPU, I'd suggest using a GPU-powered cloud compute resource, such as Azure ML. (Let me know if you'd like to see a tutorial on running this in Azure ML.) \n",
    "\n",
    "## The problem of re-identification\n",
    "\n",
    "Our photo libraries are filled with images of our friends and family. A machine learning model that focuses on \"classification\" can successfully tell us that we have lots of photos of \"smiling man\" or \"smiling woman.\" Such models will not, generally, tell us which photos are of Uncle Al and Aunt Betty. _That_ task -- re-identifying individuals -- is a different problem and requires different approaches.\n",
    "\n",
    "Beyond identifying Uncle Al and Aunt Betty in a photo library, re-identification is a common problem for wildlife biologists. Many species have photographic catalogs taken over years and decades, and many species have some distinctive features that can be used to identify individuals. \n",
    "\n",
    "### Some animals and how they may be re-identified\n",
    "\n",
    "| Species | &nbsp | &nbsp |\n",
    "| --- | --- | --- |\n",
    "| Humpback Whales | tk | tk |\n",
    "| Tigers | tk | tk | \n",
    "| Dolphins | tk | tk | \n",
    "| Manta Rays | tk | tk | \n",
    "\n",
    "\n",
    "## Create the Python environment \n",
    "\n",
    "I developed this tutorial on Ubuntu 20.04, Cuda 10.2, PyTorch 1.7, FastAI 2.3. I have to admit that the rigmarole of exactly recreating a GPU-enabled virtual environment is a little beyond me, but I _think_ you have to install CUDA manually and then when you run the `conda create` command below, I _think_ it will download properly-configured versions of the various libraries. \n",
    "\n",
    "Prequisites: \n",
    "1. [Install conda](tk) \n",
    "1. [Install CUDA](tk)\n",
    "\n",
    "1. Clone this repo and change into the directory.\n",
    "1. Create the environment:\n",
    "    ```bash\n",
    "    conda create -f 'conda_environment.yml'\n",
    "    ```\n",
    "1. Activate the environment for use with:\n",
    "   ```bash\n",
    "   conda activate fastai\n",
    "   ```\n",
    "1. Confirm the environment by running:\n",
    "   ```bash\n",
    "   python .\\versions.py\n",
    "   ```\n",
    "Which should result in something similar to:\n",
    "```bash\n",
    "Pytorch : 1.7.0, FastAI : 2.3.1, CUDA? : True\n",
    "```\n",
    "\n",
    "The environment also installs Jupyter. You may need to restart your terminal session to have the `jupyter` in your path. Run:\n",
    "\n",
    "```bash\n",
    "jupyter notebook TripletLossTutorial.ipynb\n",
    "```\n",
    "\n",
    "and continue from there."
   ]
  },
  {
   "cell_type": "markdown",
   "id": "587d736f",
   "metadata": {},
   "source": [
    "# Tutorial: TripletLoss for re-identification using FastAI v2\n",
    "\n",
    "**If you have not done so, please see [README.md](readme.md) for instructions on creating the Python environment for this tutorial.**\n",
    "\n",
    "## Import packages\n",
    "\n",
    "Nothing surprising here, I think. To visualize the output, we're going to use scikit-learn's TSNE implementation. I've heard this isn't the fastest TSNE, but for 10K datapoints and a limited number of dimensions, it's fine. "
   ]
  },
  {
   "cell_type": "code",
   "execution_count": 45,
   "id": "70695725",
   "metadata": {},
   "outputs": [],
   "source": [
    "from fastai.vision import *\n",
    "from fastai.basics import *\n",
    "from fastai.vision.all import *\n",
    "\n",
    "\n",
    "from fastai.vision.augment import *\n",
    "from fastai.vision.learner import cnn_learner\n",
    "from fastai.vision.models import resnet34\n",
    "from fastai.metrics import accuracy\n",
    "from fastai.data.core import DataLoaders"
   ]
  },
  {
   "cell_type": "code",
   "execution_count": 46,
   "id": "cf0f774d",
   "metadata": {},
   "outputs": [],
   "source": [
    "import torch\n",
    "import torchvision\n",
    "import torch.nn as nn\n",
    "from loss_functions.triplet_loss import TripletLoss"
   ]
  },
  {
   "cell_type": "code",
   "execution_count": 47,
   "id": "ba5fc5c8",
   "metadata": {},
   "outputs": [],
   "source": [
    "from scipy import spatial\n",
    "import logging"
   ]
  },
  {
   "cell_type": "code",
   "execution_count": 48,
   "id": "5eee8960",
   "metadata": {},
   "outputs": [],
   "source": [
    "%matplotlib inline \n",
    "\n",
    "import matplotlib.pyplot as plt\n",
    "import matplotlib.patches as patches\n",
    "from sklearn.manifold import TSNE\n",
    "from matplotlib import cm\n",
    "from mpl_toolkits.axes_grid1 import ImageGrid"
   ]
  },
  {
   "cell_type": "markdown",
   "id": "eaf5612f",
   "metadata": {},
   "source": [
    "## Confirm versions and CUDA\n",
    "\n",
    "This is just to confirm you're running GPU-accelerated. If you don't have a GPU, I think training will be very slow. (Let me know if I'm wrong!)"
   ]
  },
  {
   "cell_type": "code",
   "execution_count": 49,
   "id": "6db7e95b",
   "metadata": {},
   "outputs": [
    {
     "data": {
      "text/plain": [
       "'2.3.2'"
      ]
     },
     "execution_count": 49,
     "metadata": {},
     "output_type": "execute_result"
    }
   ],
   "source": [
    "import fastai\n",
    "fastai.__version__"
   ]
  },
  {
   "cell_type": "code",
   "execution_count": 50,
   "id": "2f72706c",
   "metadata": {},
   "outputs": [
    {
     "data": {
      "text/plain": [
       "True"
      ]
     },
     "execution_count": 50,
     "metadata": {},
     "output_type": "execute_result"
    }
   ],
   "source": [
    "torch.cuda.is_available()"
   ]
  },
  {
   "cell_type": "code",
   "execution_count": 51,
   "id": "a6a0b375",
   "metadata": {},
   "outputs": [],
   "source": [
    "device = 0\n",
    "torch.cuda.set_device(device)"
   ]
  },
  {
   "cell_type": "markdown",
   "id": "c4ee3875",
   "metadata": {},
   "source": [
    "## Setup the training data\n",
    "\n",
    "The training data for this tutorial is the MNIST dataset of hand-written digits 0-9. The dataset contains 10K PNG images of size 28x28. The PNGs are 3-channel, but all the pixels are grayscale. Dear ol' MNIST.\n",
    "\n",
    "IMAGE TK \n",
    "\n",
    "Now, you're probably used to MNIST as a dataset for _image classification_: \"To which of the trained-on categories ('0'...'9') does this query image most likely belong?\" But for this tutorial, we're using it to learn \"glyph re-identification.\" Our acid test will be seeing if images of a glyph not seen during training (a star) can be re-identified with very few samples (aka \"low shot\").\n",
    "\n",
    "`URLs.MNIST`, `untar_data()`, and `get_image_files()` are from the `fastai.basics` module. The following cell will download, if necessary, the MNIST dataset and unpack it. By default, the data will be stored in `~/.fastai/data`. (It's a good idea to keep track of the size of that directory when fooling around with FastAI! Some of the datasets are _big_!)."
   ]
  },
  {
   "cell_type": "code",
   "execution_count": 52,
   "id": "0963c65b",
   "metadata": {},
   "outputs": [],
   "source": [
    "mnist = untar_data(URLs.MNIST)\n",
    "fnames = get_image_files(mnist)"
   ]
  },
  {
   "cell_type": "markdown",
   "id": "e112b04d",
   "metadata": {},
   "source": [
    "Now, `~/.fastai/data/mnist_ping/` contains `testing/` and `training/` directories, which in turn have `0/`, `1/`, `2/`, etc. subdirectories. FastAI v2's `ImageDataLoaders` class can process this typical directory structure and take care of the boilerplate of testing vs. training sets, loading and transforming the images appropriately for processing, etc."
   ]
  },
  {
   "cell_type": "code",
   "execution_count": 53,
   "id": "1dc11dfc",
   "metadata": {},
   "outputs": [],
   "source": [
    "# The proper label for an image is the name of the directory it's in. e.g., \"1\" is the proper label for `1/1.png`\n",
    "def label_func(x): return x.parent.name\n",
    "\n",
    "dls = ImageDataLoaders.from_path_func(mnist, fnames, label_func)"
   ]
  },
  {
   "cell_type": "markdown",
   "id": "b3474134",
   "metadata": {},
   "source": [
    "The output of a TripletLoss-based model is an embedding (a vector representing a point in a high-dimensional space). The goal is that each of the dimensions in this embedding space represents a feature in the \"how to tell individuals of this class apart\" solution space. The distance between any two embeddings \n",
    "\n",
    "After training, the model generates embedding values for a query image. \n",
    "\n",
    "In a real-world animal re-identification model, this might be on the order of 128. In the case of MNIST, we can get fine results with just a few output features."
   ]
  },
  {
   "cell_type": "code",
   "execution_count": 54,
   "id": "0653e678",
   "metadata": {},
   "outputs": [],
   "source": [
    "# output_embedding_length = 128\n",
    "output_embedding_length = 128"
   ]
  },
  {
   "cell_type": "code",
   "execution_count": 55,
   "id": "67e56f84",
   "metadata": {},
   "outputs": [],
   "source": [
    "# dls.valid_dl.new(shuffle=True)\n",
    "# Original is a fastai data (valid_dl etc.)"
   ]
  },
  {
   "cell_type": "markdown",
   "id": "33c2448f",
   "metadata": {},
   "source": [
    "To create a TripletLoss-based embedding, we'll start with a standard Convolutional Neural Network using our recently created `dls` `ImageDataLoaders` object, the ResNet34 architecture, and FastAI's (PyTorch's?) TripletLoss function. "
   ]
  },
  {
   "cell_type": "code",
   "execution_count": 90,
   "id": "c7b0afd0",
   "metadata": {},
   "outputs": [],
   "source": [
    "learn = cnn_learner(dls, resnet34, metrics=accuracy, loss_func=TripletLoss(device))"
   ]
  },
  {
   "cell_type": "code",
   "execution_count": 91,
   "id": "b53ba4fd",
   "metadata": {},
   "outputs": [
    {
     "data": {
      "text/plain": [
       "Sequential(\n",
       "  (0): AdaptiveConcatPool2d(\n",
       "    (ap): AdaptiveAvgPool2d(output_size=1)\n",
       "    (mp): AdaptiveMaxPool2d(output_size=1)\n",
       "  )\n",
       "  (1): Flatten(full=False)\n",
       "  (2): BatchNorm1d(1024, eps=1e-05, momentum=0.1, affine=True, track_running_stats=True)\n",
       "  (3): Dropout(p=0.25, inplace=False)\n",
       "  (4): Linear(in_features=1024, out_features=512, bias=False)\n",
       "  (5): ReLU(inplace=True)\n",
       "  (6): BatchNorm1d(512, eps=1e-05, momentum=0.1, affine=True, track_running_stats=True)\n",
       "  (7): Dropout(p=0.5, inplace=False)\n",
       "  (8): Linear(in_features=512, out_features=10, bias=False)\n",
       ")"
      ]
     },
     "execution_count": 91,
     "metadata": {},
     "output_type": "execute_result"
    }
   ],
   "source": [
    "learn.model[1]"
   ]
  },
  {
   "cell_type": "markdown",
   "id": "8f6a1209",
   "metadata": {},
   "source": [
    "We want to replace the classification head of the ResNet34 architecture with an embedding output.  The `L2_norm` class normalizes the values to the range $ (0.0,1.0) $. "
   ]
  },
  {
   "cell_type": "code",
   "execution_count": 92,
   "id": "aab61b3e",
   "metadata": {},
   "outputs": [],
   "source": [
    "class L2_norm(nn.Module):\n",
    "    def __init__(self):\n",
    "        super(L2_norm, self).__init__()\n",
    "\n",
    "    def forward(self, x):\n",
    "        return F.normalize(x, p=2, dim=-1)"
   ]
  },
  {
   "cell_type": "code",
   "execution_count": 93,
   "id": "2428d5fe",
   "metadata": {},
   "outputs": [],
   "source": [
    "layers = learn.model[1]\n",
    "learn.model[1] = nn.Sequential(layers[0], layers[1], layers[2], layers[3], nn.Linear(in_features=1024, out_features=output_embedding_length, bias=False), L2_norm()).to(device)\n",
    "    "
   ]
  },
  {
   "cell_type": "code",
   "execution_count": 94,
   "id": "5a6c7671",
   "metadata": {},
   "outputs": [
    {
     "data": {
      "text/plain": [
       "Sequential(\n",
       "  (0): AdaptiveConcatPool2d(\n",
       "    (ap): AdaptiveAvgPool2d(output_size=1)\n",
       "    (mp): AdaptiveMaxPool2d(output_size=1)\n",
       "  )\n",
       "  (1): Flatten(full=False)\n",
       "  (2): BatchNorm1d(1024, eps=1e-05, momentum=0.1, affine=True, track_running_stats=True)\n",
       "  (3): Dropout(p=0.25, inplace=False)\n",
       "  (4): Linear(in_features=1024, out_features=128, bias=False)\n",
       "  (5): L2_norm()\n",
       ")"
      ]
     },
     "execution_count": 94,
     "metadata": {},
     "output_type": "execute_result"
    }
   ],
   "source": [
    "learn.model[1]"
   ]
  },
  {
   "cell_type": "markdown",
   "id": "740c99bc",
   "metadata": {},
   "source": [
    "We now have a model configured for TripletLoss. What happens behind the scene when this model is trained? \n",
    "\n",
    "Basically, the training loop will grab 3 images: a `target` image, a `positive` image, and a `negative` image. The `target` and `positive` are in the same class ('1', '2', '3', etc.) while the `negative` image is in a different class. The basic goal of training is to find weights such that `target` and `positive` have embedding values that are near other while `target` and `negative` have embedding values that are far from each other. \n",
    "\n",
    "If you think about that, _most_ triplets are going to end up being 'easy'; any two random '9's are likely to share several features, while a randomly selected not-9 is unlikely to be \"oh, yeah, that could be a 9.\" So training with just-random triplets is less efficient than training with 'hard' triplets. In a hard triplet, the `positive` and `negative` are as close as possible to the dividing line in \"tell glyphs apart\" embedding space. In an ideal 'hard' triplet with a `target` in class '9', the 'positive' is a '9' image that's close in appearance to a '7' image that could be mistaken for a '9'. Finding hard triplets and using them for training is somewhere between \"valuable\" and \"essential\" in real-world re-identification tasks. \"Triplet mining\" is outside the scope of this tutorial, but you can read more about it [here](tk). "
   ]
  },
  {
   "cell_type": "markdown",
   "id": "a3b71d59",
   "metadata": {},
   "source": [
    "## Training\n",
    "\n",
    "FastAI's `lr_find()` function does a quick sweep of learning rates. Typically, a good learning rate is one where the slope of the `lr_find()` graph is steepest."
   ]
  },
  {
   "cell_type": "code",
   "execution_count": 95,
   "id": "df59ac88",
   "metadata": {},
   "outputs": [
    {
     "data": {
      "text/html": [],
      "text/plain": [
       "<IPython.core.display.HTML object>"
      ]
     },
     "metadata": {},
     "output_type": "display_data"
    },
    {
     "data": {
      "text/plain": [
       "SuggestedLRs(lr_min=0.33113112449646, lr_steep=0.10000000149011612)"
      ]
     },
     "execution_count": 95,
     "metadata": {},
     "output_type": "execute_result"
    },
    {
     "data": {
      "image/png": "[encoded data removed]",
      "text/plain": [
       "<Figure size 432x288 with 1 Axes>"
      ]
     },
     "metadata": {
      "needs_background": "light"
     },
     "output_type": "display_data"
    }
   ],
   "source": [
    "learn.lr_find()"
   ]
  },
  {
   "cell_type": "markdown",
   "id": "389dfac7",
   "metadata": {},
   "source": [
    "For tutorial purposes and because MNIST is pretty easy, we're going to use a fast learning rate and few epochs. Real-world data sets won't be so kind!"
   ]
  },
  {
   "cell_type": "code",
   "execution_count": 96,
   "id": "c60ffae1",
   "metadata": {},
   "outputs": [
    {
     "data": {
      "text/html": [
       "<table border=\"1\" class=\"dataframe\">\n",
       "  <thead>\n",
       "    <tr style=\"text-align: left;\">\n",
       "      <th>epoch</th>\n",
       "      <th>train_loss</th>\n",
       "      <th>valid_loss</th>\n",
       "      <th>accuracy</th>\n",
       "      <th>time</th>\n",
       "    </tr>\n",
       "  </thead>\n",
       "  <tbody>\n",
       "    <tr>\n",
       "      <td>0</td>\n",
       "      <td>0.177247</td>\n",
       "      <td>0.101637</td>\n",
       "      <td>0.035429</td>\n",
       "      <td>00:26</td>\n",
       "    </tr>\n",
       "    <tr>\n",
       "      <td>1</td>\n",
       "      <td>0.133270</td>\n",
       "      <td>0.196480</td>\n",
       "      <td>0.010714</td>\n",
       "      <td>00:26</td>\n",
       "    </tr>\n",
       "    <tr>\n",
       "      <td>2</td>\n",
       "      <td>0.104465</td>\n",
       "      <td>0.110250</td>\n",
       "      <td>0.018786</td>\n",
       "      <td>00:26</td>\n",
       "    </tr>\n",
       "    <tr>\n",
       "      <td>3</td>\n",
       "      <td>0.110900</td>\n",
       "      <td>0.179141</td>\n",
       "      <td>0.026286</td>\n",
       "      <td>00:26</td>\n",
       "    </tr>\n",
       "    <tr>\n",
       "      <td>4</td>\n",
       "      <td>0.084999</td>\n",
       "      <td>0.066289</td>\n",
       "      <td>0.000214</td>\n",
       "      <td>00:26</td>\n",
       "    </tr>\n",
       "    <tr>\n",
       "      <td>5</td>\n",
       "      <td>0.086911</td>\n",
       "      <td>0.054963</td>\n",
       "      <td>0.078786</td>\n",
       "      <td>00:26</td>\n",
       "    </tr>\n",
       "    <tr>\n",
       "      <td>6</td>\n",
       "      <td>0.067234</td>\n",
       "      <td>0.051094</td>\n",
       "      <td>0.000143</td>\n",
       "      <td>00:26</td>\n",
       "    </tr>\n",
       "    <tr>\n",
       "      <td>7</td>\n",
       "      <td>0.065434</td>\n",
       "      <td>0.047903</td>\n",
       "      <td>0.000643</td>\n",
       "      <td>00:27</td>\n",
       "    </tr>\n",
       "    <tr>\n",
       "      <td>8</td>\n",
       "      <td>0.062790</td>\n",
       "      <td>0.051135</td>\n",
       "      <td>0.000786</td>\n",
       "      <td>00:27</td>\n",
       "    </tr>\n",
       "    <tr>\n",
       "      <td>9</td>\n",
       "      <td>0.052330</td>\n",
       "      <td>0.042803</td>\n",
       "      <td>0.000357</td>\n",
       "      <td>00:28</td>\n",
       "    </tr>\n",
       "    <tr>\n",
       "      <td>10</td>\n",
       "      <td>0.048953</td>\n",
       "      <td>0.041971</td>\n",
       "      <td>0.025214</td>\n",
       "      <td>00:27</td>\n",
       "    </tr>\n",
       "    <tr>\n",
       "      <td>11</td>\n",
       "      <td>0.054041</td>\n",
       "      <td>0.042071</td>\n",
       "      <td>0.002929</td>\n",
       "      <td>00:27</td>\n",
       "    </tr>\n",
       "    <tr>\n",
       "      <td>12</td>\n",
       "      <td>0.042994</td>\n",
       "      <td>0.036293</td>\n",
       "      <td>0.002071</td>\n",
       "      <td>00:26</td>\n",
       "    </tr>\n",
       "    <tr>\n",
       "      <td>13</td>\n",
       "      <td>0.039893</td>\n",
       "      <td>0.038717</td>\n",
       "      <td>0.002643</td>\n",
       "      <td>00:26</td>\n",
       "    </tr>\n",
       "    <tr>\n",
       "      <td>14</td>\n",
       "      <td>0.034311</td>\n",
       "      <td>0.030208</td>\n",
       "      <td>0.000286</td>\n",
       "      <td>00:26</td>\n",
       "    </tr>\n",
       "    <tr>\n",
       "      <td>15</td>\n",
       "      <td>0.029148</td>\n",
       "      <td>0.032281</td>\n",
       "      <td>0.000214</td>\n",
       "      <td>00:26</td>\n",
       "    </tr>\n",
       "    <tr>\n",
       "      <td>16</td>\n",
       "      <td>0.026229</td>\n",
       "      <td>0.029817</td>\n",
       "      <td>0.000429</td>\n",
       "      <td>00:26</td>\n",
       "    </tr>\n",
       "    <tr>\n",
       "      <td>17</td>\n",
       "      <td>0.019406</td>\n",
       "      <td>0.028295</td>\n",
       "      <td>0.000429</td>\n",
       "      <td>00:26</td>\n",
       "    </tr>\n",
       "    <tr>\n",
       "      <td>18</td>\n",
       "      <td>0.022481</td>\n",
       "      <td>0.026837</td>\n",
       "      <td>0.000429</td>\n",
       "      <td>00:26</td>\n",
       "    </tr>\n",
       "    <tr>\n",
       "      <td>19</td>\n",
       "      <td>0.019967</td>\n",
       "      <td>0.027598</td>\n",
       "      <td>0.000500</td>\n",
       "      <td>00:26</td>\n",
       "    </tr>\n",
       "  </tbody>\n",
       "</table>"
      ],
      "text/plain": [
       "<IPython.core.display.HTML object>"
      ]
     },
     "metadata": {},
     "output_type": "display_data"
    }
   ],
   "source": [
    "lr = 0.2\n",
    "epochs = 20\n",
    "learn.fit_one_cycle(epochs, slice(lr))"
   ]
  },
  {
   "cell_type": "code",
   "execution_count": 97,
   "id": "0e3d7bc3",
   "metadata": {},
   "outputs": [],
   "source": [
    "model_name = f'{epochs}_epochs_{output_embedding_length}_features'"
   ]
  },
  {
   "cell_type": "code",
   "execution_count": 98,
   "id": "6aa71b79",
   "metadata": {},
   "outputs": [
    {
     "data": {
      "text/plain": [
       "Path('/home/larry/.fastai/data/mnist_png/models/20_epochs_128_features.pth')"
      ]
     },
     "execution_count": 98,
     "metadata": {},
     "output_type": "execute_result"
    }
   ],
   "source": [
    "learn.save(model_name)"
   ]
  },
  {
   "cell_type": "markdown",
   "id": "0a547b24",
   "metadata": {},
   "source": [
    "## Inferencing\n",
    "\n",
    "To get the output embedding of a `query` image, we just use `learn.predict()` on our trained `Learner: "
   ]
  },
  {
   "cell_type": "code",
   "execution_count": 99,
   "id": "fe76a6b6",
   "metadata": {},
   "outputs": [
    {
     "data": {
      "text/html": [],
      "text/plain": [
       "<IPython.core.display.HTML object>"
      ]
     },
     "metadata": {},
     "output_type": "display_data"
    },
    {
     "name": "stdout",
     "output_type": "stream",
     "text": [
      "[-0.02685654 -0.0664409  -0.05282405  0.13128084 -0.16404235 -0.07902745\n",
      "  0.08757315  0.04591833  0.09448856  0.01192271  0.02990094 -0.11192217\n",
      "  0.02426052 -0.11717128  0.0025574  -0.17599596  0.15398207  0.12705527\n",
      " -0.01652165 -0.07636456  0.03214346 -0.02710077 -0.03165281 -0.09398835\n",
      "  0.00557938 -0.06097703 -0.0593987  -0.14500326  0.06538934 -0.03287405\n",
      "  0.08287285  0.0071555  -0.02219413  0.04588227  0.00681522 -0.05818627\n",
      "  0.21943285  0.01785547 -0.07002068  0.01615722  0.06546357 -0.12865682\n",
      "  0.07639893  0.02150108  0.16297878 -0.10354443  0.01103313  0.13249438\n",
      " -0.04289509  0.05735078  0.1058455  -0.03898425  0.01511058 -0.2929563\n",
      "  0.12001532 -0.09284744 -0.03732519 -0.08481045 -0.09474694  0.20084213\n",
      " -0.07365731 -0.04899035  0.12747276 -0.00408068  0.07489217  0.12264564\n",
      "  0.00444675  0.02223329  0.07396491 -0.04335451 -0.01111529  0.036444\n",
      "  0.01753991 -0.03333655  0.08519194 -0.16348155  0.00404831 -0.10400955\n",
      "  0.10535397 -0.10148597 -0.03572354 -0.02180829  0.07839018  0.12441708\n",
      "  0.03234182 -0.01856228  0.02411585  0.01353186 -0.12009303  0.0624846\n",
      " -0.06032163  0.01560514  0.08370986 -0.03827897  0.04181376  0.10300457\n",
      " -0.03709866  0.07879037  0.0777318  -0.01733054 -0.0251196  -0.13124625\n",
      " -0.02960008 -0.07544337 -0.1568369  -0.18274102  0.01196139 -0.06327308\n",
      " -0.00958959  0.07967961 -0.06267074 -0.01098066  0.1326987   0.10144944\n",
      " -0.02543458  0.0866252  -0.03869989 -0.00857842  0.11712065  0.01843295\n",
      " -0.08457572 -0.19174434  0.09137879 -0.04997712 -0.1490273  -0.07461419\n",
      "  0.06260093 -0.0003249 ]\n"
     ]
    }
   ],
   "source": [
    "query_img = PILImage.create('stars/Star1.png')\n",
    "result = learn.predict(query_img)\n",
    "query_fingerprint = result[1].numpy()\n",
    "print(query_fingerprint)"
   ]
  },
  {
   "cell_type": "markdown",
   "id": "ee3680b4",
   "metadata": {},
   "source": [
    "### Fingerprinting the exemplars\n",
    "\n",
    "Create the database to which we will compare `query_fingerprint`:    "
   ]
  },
  {
   "cell_type": "code",
   "execution_count": 100,
   "id": "4117ef00",
   "metadata": {},
   "outputs": [
    {
     "data": {
      "text/plain": [
       "10000"
      ]
     },
     "execution_count": 100,
     "metadata": {},
     "output_type": "execute_result"
    }
   ],
   "source": [
    "fnames = list(Path(mnist/'testing').rglob('*.png'))\n",
    "len(fnames)"
   ]
  },
  {
   "cell_type": "code",
   "execution_count": 101,
   "id": "afdbf8b5",
   "metadata": {},
   "outputs": [
    {
     "data": {
      "text/plain": [
       "Path('/home/larry/.fastai/data/mnist_png/testing/0/7129.png')"
      ]
     },
     "execution_count": 101,
     "metadata": {},
     "output_type": "execute_result"
    }
   ],
   "source": [
    "fnames[0]"
   ]
  },
  {
   "cell_type": "code",
   "execution_count": 102,
   "id": "45f8fb50",
   "metadata": {
    "tags": [
     "hide-output"
    ]
   },
   "outputs": [],
   "source": [
    "# Outputs a blank line for each for some reason. Use %%capture when calling\n",
    "def fingerprint_all(fnames):\n",
    "    fingerprints = {}\n",
    "    for f in fnames:\n",
    "        category = label_func(f)\n",
    "        img = PILImage.create(f)\n",
    "        result = learn.predict(img)\n",
    "        fingerprint = result[1].numpy()\n",
    "        fingerprints[(category,f)] = fingerprint\n",
    "    return fingerprints\n"
   ]
  },
  {
   "cell_type": "code",
   "execution_count": 103,
   "id": "1f462a50",
   "metadata": {},
   "outputs": [],
   "source": [
    "%%capture \n",
    "# Suppresses output\n",
    "# Takes about 3 minutes on a 2080\n",
    "fingerprint_db = fingerprint_all(fnames)"
   ]
  },
  {
   "cell_type": "markdown",
   "id": "d7f9cdbf",
   "metadata": {},
   "source": [
    "## Nearest k-neighbors\n",
    "\n",
    "Because our embedding values are normalized, finding the nearest k-neighbors is trivial:"
   ]
  },
  {
   "cell_type": "code",
   "execution_count": 104,
   "id": "2390d32b",
   "metadata": {},
   "outputs": [],
   "source": [
    "# Find k nearest neighbour using cosine similarity. Normalized vectors, so easy...\n",
    "def find_k_nearest_neighbors(vectors,vec,k):\n",
    "    dist_arr = np.matmul(vectors, vec.T)\n",
    "    return np.argsort(-dist_arr.flatten())[:k]\n"
   ]
  },
  {
   "cell_type": "code",
   "execution_count": 105,
   "id": "cc16c697",
   "metadata": {},
   "outputs": [
    {
     "data": {
      "text/plain": [
       "array([5306, 5065, 4995, 5714, 5609, 5281, 5600, 5089, 5681, 5326])"
      ]
     },
     "execution_count": 105,
     "metadata": {},
     "output_type": "execute_result"
    }
   ],
   "source": [
    "fps = list(fingerprint_db.values())\n",
    "closest = find_k_nearest_neighbors(fps, query_fingerprint, 10)\n",
    "closest"
   ]
  },
  {
   "cell_type": "code",
   "execution_count": 106,
   "id": "a3f64fe4",
   "metadata": {
    "scrolled": true
   },
   "outputs": [
    {
     "data": {
      "text/plain": [
       "(('8', Path('/home/larry/.fastai/data/mnist_png/testing/8/4601.png')),\n",
       " array([ 0.01670307, -0.09334327, -0.04035507,  0.14034109, -0.1390653 ,\n",
       "        -0.02997699,  0.0691412 , -0.01965449,  0.14879996, -0.0307778 ,\n",
       "         0.0499967 , -0.09715722,  0.03967079, -0.12546353,  0.00465879,\n",
       "        -0.12868424,  0.1673229 ,  0.14279988,  0.00981914, -0.1257291 ,\n",
       "        -0.04629233, -0.02733118,  0.00387376, -0.11382929,  0.03242231,\n",
       "        -0.05249896, -0.0671302 , -0.1337653 ,  0.06506158, -0.03965495,\n",
       "         0.09792112, -0.0035671 ,  0.01463524,  0.06439284, -0.00860449,\n",
       "        -0.01265145,  0.15822726,  0.06589206, -0.02866904,  0.02266427,\n",
       "         0.05323914, -0.11058905,  0.08238242,  0.0728654 ,  0.14486936,\n",
       "        -0.10078606, -0.007328  ,  0.14902319, -0.04762946,  0.04559135,\n",
       "         0.08897641, -0.0766572 ,  0.03898349, -0.3038692 ,  0.07756894,\n",
       "        -0.13703844, -0.05287901, -0.09189159, -0.05284088,  0.20026134,\n",
       "        -0.0715245 , -0.04721208,  0.10749867,  0.01726143,  0.06433553,\n",
       "         0.10477507,  0.02108847,  0.0091063 ,  0.05986425, -0.09090011,\n",
       "        -0.03856177,  0.0225267 ,  0.01547802, -0.07009684,  0.04933351,\n",
       "        -0.20559575,  0.02978103, -0.09852843,  0.10115103, -0.0619239 ,\n",
       "        -0.0938134 , -0.05666979,  0.0307138 ,  0.12218301,  0.07559568,\n",
       "        -0.01842191,  0.00236265, -0.00506003, -0.12281424,  0.07476256,\n",
       "        -0.06825907,  0.05655899,  0.04785315, -0.03564778,  0.04038844,\n",
       "         0.06739844, -0.03968165,  0.08115924,  0.09150132,  0.00057375,\n",
       "        -0.02548034, -0.13561288, -0.06721403, -0.08430342, -0.11926533,\n",
       "        -0.20367351,  0.0118809 , -0.09045237, -0.00445576,  0.06755832,\n",
       "        -0.04638288,  0.00143136,  0.13788123,  0.04862857, -0.06847995,\n",
       "         0.06520806, -0.02769817, -0.05655945,  0.14175507, -0.01106928,\n",
       "        -0.0630332 , -0.1380761 ,  0.11638069, -0.07756015, -0.17415078,\n",
       "        -0.05959132,  0.04788565, -0.01032123], dtype=float32))"
      ]
     },
     "execution_count": 106,
     "metadata": {},
     "output_type": "execute_result"
    }
   ],
   "source": [
    "list(fingerprint_db.items())[closest[0]]"
   ]
  },
  {
   "cell_type": "code",
   "execution_count": 107,
   "id": "09966276",
   "metadata": {
    "scrolled": true
   },
   "outputs": [
    {
     "data": {
      "text/plain": [
       "[(('8', Path('/home/larry/.fastai/data/mnist_png/testing/8/4601.png')),\n",
       "  0.050738394260406494),\n",
       " (('8', Path('/home/larry/.fastai/data/mnist_png/testing/8/7265.png')),\n",
       "  0.05101466178894043),\n",
       " (('8', Path('/home/larry/.fastai/data/mnist_png/testing/8/2425.png')),\n",
       "  0.05178546905517578),\n",
       " (('8', Path('/home/larry/.fastai/data/mnist_png/testing/8/486.png')),\n",
       "  0.051842331886291504),\n",
       " (('8', Path('/home/larry/.fastai/data/mnist_png/testing/8/6839.png')),\n",
       "  0.053469955921173096),\n",
       " (('8', Path('/home/larry/.fastai/data/mnist_png/testing/8/5680.png')),\n",
       "  0.05356067419052124),\n",
       " (('8', Path('/home/larry/.fastai/data/mnist_png/testing/8/3583.png')),\n",
       "  0.055361032485961914),\n",
       " (('8', Path('/home/larry/.fastai/data/mnist_png/testing/8/128.png')),\n",
       "  0.0555570125579834),\n",
       " (('8', Path('/home/larry/.fastai/data/mnist_png/testing/8/1499.png')),\n",
       "  0.05637812614440918),\n",
       " (('8', Path('/home/larry/.fastai/data/mnist_png/testing/8/4020.png')),\n",
       "  0.05665343999862671)]"
      ]
     },
     "execution_count": 107,
     "metadata": {},
     "output_type": "execute_result"
    }
   ],
   "source": [
    "## Put it together\n",
    "\n",
    "def best_match_mnist(fingerprint_db, fingerprint, k):\n",
    "    fps = list(fingerprint_db.values())\n",
    "    keys = list(fingerprint_db.keys())\n",
    "    match_indices = find_k_nearest_neighbors(fps,fingerprint,k)\n",
    "    for i in match_indices:\n",
    "        match_fp = fps[i]\n",
    "        distance = spatial.distance.cosine(match_fp, fingerprint)\n",
    "        yield (keys[i], distance)\n",
    "        \n",
    "list(best_match_mnist(fingerprint_db, query_fingerprint, 10))"
   ]
  },
  {
   "cell_type": "code",
   "execution_count": 108,
   "id": "c31c0e03",
   "metadata": {
    "scrolled": true
   },
   "outputs": [],
   "source": [
    "def fingerprint_file(path) :\n",
    "    img = PILImage.create(path)\n",
    "    result = learn.predict(img)\n",
    "    fingerprint = result[1].numpy()\n",
    "    return fingerprint"
   ]
  },
  {
   "cell_type": "code",
   "execution_count": 109,
   "id": "c2342ec7",
   "metadata": {},
   "outputs": [
    {
     "data": {
      "text/html": [],
      "text/plain": [
       "<IPython.core.display.HTML object>"
      ]
     },
     "metadata": {},
     "output_type": "display_data"
    },
    {
     "data": {
      "text/plain": [
       "[(('4', Path('/home/larry/.fastai/data/mnist_png/testing/4/4929.png')),\n",
       "  0.011352241039276123),\n",
       " (('4', Path('/home/larry/.fastai/data/mnist_png/testing/4/6019.png')),\n",
       "  0.01591700315475464),\n",
       " (('4', Path('/home/larry/.fastai/data/mnist_png/testing/4/8280.png')),\n",
       "  0.017027199268341064),\n",
       " (('4', Path('/home/larry/.fastai/data/mnist_png/testing/4/3490.png')),\n",
       "  0.01715630292892456),\n",
       " (('4', Path('/home/larry/.fastai/data/mnist_png/testing/4/1274.png')),\n",
       "  0.017175495624542236)]"
      ]
     },
     "execution_count": 109,
     "metadata": {},
     "output_type": "execute_result"
    }
   ],
   "source": [
    "fp4 = fingerprint_file('media/4.png')\n",
    "list(best_match_mnist(fingerprint_db, fp4, 5))"
   ]
  },
  {
   "cell_type": "code",
   "execution_count": 110,
   "id": "4d44ee49",
   "metadata": {},
   "outputs": [
    {
     "data": {
      "text/html": [],
      "text/plain": [
       "<IPython.core.display.HTML object>"
      ]
     },
     "metadata": {},
     "output_type": "display_data"
    },
    {
     "data": {
      "text/html": [],
      "text/plain": [
       "<IPython.core.display.HTML object>"
      ]
     },
     "metadata": {},
     "output_type": "display_data"
    },
    {
     "data": {
      "text/plain": [
       "[(('8', Path('/home/larry/.fastai/data/mnist_png/testing/8/4601.png')),\n",
       "  0.050738394260406494)]"
      ]
     },
     "execution_count": 110,
     "metadata": {},
     "output_type": "execute_result"
    }
   ],
   "source": [
    "fps1 = fingerprint_file('stars/Star1.png')\n",
    "fps2 = fingerprint_file('stars/Star2.png')\n",
    "list(best_match_mnist(fingerprint_db, fps1, 1))"
   ]
  },
  {
   "cell_type": "code",
   "execution_count": 111,
   "id": "2e01e6dc",
   "metadata": {},
   "outputs": [
    {
     "data": {
      "text/plain": [
       "0.698689341545105"
      ]
     },
     "execution_count": 111,
     "metadata": {},
     "output_type": "execute_result"
    }
   ],
   "source": [
    "spatial.distance.cosine(fps2, fps1)"
   ]
  },
  {
   "cell_type": "code",
   "execution_count": 112,
   "id": "8f4b9ee3",
   "metadata": {},
   "outputs": [
    {
     "data": {
      "text/plain": [
       "[(('7', Path('/home/larry/.fastai/data/mnist_png/testing/7/2607.png')),\n",
       "  0.30452412366867065)]"
      ]
     },
     "execution_count": 112,
     "metadata": {},
     "output_type": "execute_result"
    }
   ],
   "source": [
    "list(best_match_mnist(fingerprint_db, fps2, 1))"
   ]
  },
  {
   "cell_type": "code",
   "execution_count": 113,
   "id": "3f76e6c0",
   "metadata": {},
   "outputs": [],
   "source": [
    "fingerprint_db[('*','/stars/Star1.png')] = fps1"
   ]
  },
  {
   "cell_type": "code",
   "execution_count": 114,
   "id": "ebc200ba",
   "metadata": {},
   "outputs": [
    {
     "data": {
      "text/plain": [
       "[(('7', Path('/home/larry/.fastai/data/mnist_png/testing/7/2607.png')),\n",
       "  0.30452412366867065),\n",
       " (('7', Path('/home/larry/.fastai/data/mnist_png/testing/7/3767.png')),\n",
       "  0.3672325015068054),\n",
       " (('7', Path('/home/larry/.fastai/data/mnist_png/testing/7/1226.png')),\n",
       "  0.38205158710479736),\n",
       " (('7', Path('/home/larry/.fastai/data/mnist_png/testing/7/1754.png')),\n",
       "  0.3908657431602478),\n",
       " (('7', Path('/home/larry/.fastai/data/mnist_png/testing/7/3604.png')),\n",
       "  0.4022327661514282),\n",
       " (('7', Path('/home/larry/.fastai/data/mnist_png/testing/7/1903.png')),\n",
       "  0.4049708843231201),\n",
       " (('7', Path('/home/larry/.fastai/data/mnist_png/testing/7/5906.png')),\n",
       "  0.41332465410232544),\n",
       " (('7', Path('/home/larry/.fastai/data/mnist_png/testing/7/3808.png')),\n",
       "  0.41522079706192017),\n",
       " (('7', Path('/home/larry/.fastai/data/mnist_png/testing/7/6577.png')),\n",
       "  0.4156973958015442),\n",
       " (('7', Path('/home/larry/.fastai/data/mnist_png/testing/7/358.png')),\n",
       "  0.41868728399276733)]"
      ]
     },
     "execution_count": 114,
     "metadata": {},
     "output_type": "execute_result"
    }
   ],
   "source": [
    "(list(m for m in best_match_mnist(fingerprint_db, fps2, 10)))"
   ]
  },
  {
   "cell_type": "code",
   "execution_count": 115,
   "id": "2b9407f2",
   "metadata": {
    "scrolled": false
   },
   "outputs": [
    {
     "data": {
      "text/plain": [
       "[(('7', Path('/home/larry/.fastai/data/mnist_png/testing/7/2607.png')),\n",
       "  0.30452412366867065),\n",
       " (('7', Path('/home/larry/.fastai/data/mnist_png/testing/7/3767.png')),\n",
       "  0.3672325015068054),\n",
       " (('7', Path('/home/larry/.fastai/data/mnist_png/testing/7/1226.png')),\n",
       "  0.38205158710479736),\n",
       " (('7', Path('/home/larry/.fastai/data/mnist_png/testing/7/1754.png')),\n",
       "  0.3908657431602478),\n",
       " (('7', Path('/home/larry/.fastai/data/mnist_png/testing/7/3604.png')),\n",
       "  0.4022327661514282),\n",
       " (('7', Path('/home/larry/.fastai/data/mnist_png/testing/7/1903.png')),\n",
       "  0.4049708843231201),\n",
       " (('7', Path('/home/larry/.fastai/data/mnist_png/testing/7/5906.png')),\n",
       "  0.41332465410232544),\n",
       " (('7', Path('/home/larry/.fastai/data/mnist_png/testing/7/3808.png')),\n",
       "  0.41522079706192017),\n",
       " (('7', Path('/home/larry/.fastai/data/mnist_png/testing/7/6577.png')),\n",
       "  0.4156973958015442),\n",
       " (('7', Path('/home/larry/.fastai/data/mnist_png/testing/7/358.png')),\n",
       "  0.41868728399276733)]"
      ]
     },
     "execution_count": 115,
     "metadata": {},
     "output_type": "execute_result"
    }
   ],
   "source": [
    "(list(m for m in best_match_mnist(fingerprint_db, fps2, 10000) if m[0][0] != \"8\"))[0:10]"
   ]
  },
  {
   "cell_type": "code",
   "execution_count": 116,
   "id": "ab962be2",
   "metadata": {},
   "outputs": [
    {
     "data": {
      "image/png": "[encoded data removed]",
      "text/plain": [
       "PILImage mode=RGB size=28x28"
      ]
     },
     "execution_count": 116,
     "metadata": {},
     "output_type": "execute_result"
    }
   ],
   "source": [
    "query_img = PILImage.create(\"stars/Star2.png\")\n",
    "query_img"
   ]
  },
  {
   "cell_type": "raw",
   "id": "883a839c",
   "metadata": {},
   "source": [
    "fig = plt.figure(figsize=(4., 4.))\n",
    "grid = ImageGrid(fig, 111,  # similar to subplot(111)\n",
    "                 nrows_ncols=(3, 3),  # creates 2x2 grid of axes\n",
    "                 axes_pad=0.1,  # pad between axes in inch.\n",
    "                 )\n",
    "\n",
    "imgs = (PILImage.create(m[0][1]) for m in best_match_mnist(fingerprint_db, fps2, 9))\n",
    "\n",
    "for ax, im in zip(grid, imgs):\n",
    "    # Iterating over the grid returns the Axes.\n",
    "    ax.imshow(im)\n",
    "\n",
    "plt.show()"
   ]
  },
  {
   "cell_type": "code",
   "execution_count": 117,
   "id": "2078932a",
   "metadata": {},
   "outputs": [
    {
     "data": {
      "image/png": "[encoded data removed]",
      "text/plain": [
       "PILImage mode=RGB size=28x28"
      ]
     },
     "execution_count": 117,
     "metadata": {},
     "output_type": "execute_result"
    }
   ],
   "source": [
    "PILImage.create(\"stars/Star1.png\")"
   ]
  },
  {
   "cell_type": "markdown",
   "id": "b7878c7d",
   "metadata": {},
   "source": [
    "I think this net is overfitted to numbers. But does that make sense? Shouldn't just... features to features create the appropriate cosine distance between star and star?\n",
    "\n",
    "Or, maybe it's that the best diagnostic is: \"OK, return the top 3 returns in the top 3 categories.\" So you'd get \"8\"s and their <0.04 distance, and you'd get FPS1 at 0.04, and then you'd get the top (whatever) "
   ]
  },
  {
   "cell_type": "code",
   "execution_count": 118,
   "id": "505af5ed",
   "metadata": {},
   "outputs": [
    {
     "data": {
      "text/plain": [
       "(10001, 128)"
      ]
     },
     "execution_count": 118,
     "metadata": {},
     "output_type": "execute_result"
    }
   ],
   "source": [
    "fps = np.array(list(fingerprint_db.values()))\n",
    "fps.shape"
   ]
  },
  {
   "cell_type": "code",
   "execution_count": 119,
   "id": "d90157da",
   "metadata": {},
   "outputs": [],
   "source": [
    "def train_and_fingerprint(epochs, learning_rate, files_to_fingerprint) :\n",
    "    learn.fit_one_cycle(epochs,slice(learning_rate))\n",
    "    fingerprints = fingerprint_all(files_to_fingerprint)\n",
    "    \n",
    "    return (learn, fingerprints)"
   ]
  },
  {
   "cell_type": "code",
   "execution_count": 120,
   "id": "5a7928da",
   "metadata": {},
   "outputs": [],
   "source": [
    "def visualize(fingerprints_db, fingerprints_to_highlight = [], indices_to_highlight = []):\n",
    "    l = list(fingerprint_db.values())\n",
    "    fps = np.array(l + fingerprints_to_highlight)\n",
    "    tsne = TSNE(2, random_state = 42, verbose = 1)    \n",
    "    tsne_proj = tsne.fit_transform(fps)\n",
    "    \n",
    "    cmap = cm.get_cmap('tab20')\n",
    "    fig, ax = plt.subplots(figsize=(8,8))\n",
    "    num_categories = 11\n",
    "\n",
    "    for i in range(num_categories):\n",
    "        matching_indices = [key for key, (val,_) in enumerate(fingerprint_db.keys()) if val == str(i)]\n",
    "        plt.scatter(tsne_proj[matching_indices,0], tsne_proj[matching_indices,1], c = np.array(cmap(i)).reshape(1,4), label = i)\n",
    "    ax.legend(fontsize='large', markerscale=2)\n",
    "    \n",
    "    # Highlight\n",
    "    plt.scatter(tsne_proj[indices_to_highlight,0], tsne_proj[indices_to_highlight,1], marker = '+', c = 'k', label = 'highlight') \n",
    "    ixs_to_highlight = range(len(fps) - len(fingerprints_to_highlight),len(fps))\n",
    "    (xs, ys) = (tsne_proj[ixs_to_highlight,0], tsne_proj[ixs_to_highlight,1])\n",
    "    plt.scatter(xs, ys, marker = '+', c = 'k', label = 'highlight') \n",
    "    (min_x, min_y, max_x, max_y) = (min(xs), min(ys), max(xs), max(ys))\n",
    "    min_x = min_x - 2\n",
    "    min_y = min_y - 2\n",
    "    width = max_x - min_x + 2\n",
    "    height = max_y - min_y + 2\n",
    "    rect = patches.Rectangle((min_x, min_y), width, height, linewidth=1, edgecolor='k', facecolor='none')\n",
    "    ax.add_patch(rect)\n",
    "    \n",
    "    plt.savefig(model_name)\n",
    "    plt.show()\n",
    "    return tsne"
   ]
  },
  {
   "cell_type": "code",
   "execution_count": 121,
   "id": "c5dc96ad",
   "metadata": {},
   "outputs": [],
   "source": [
    "%%capture \n",
    "# Use %%capture to suppress fingerprint_all output, which produces a blank line for each file for some reason\n",
    "(_, fps) = train_and_fingerprint(0, .0005, fnames)"
   ]
  },
  {
   "cell_type": "code",
   "execution_count": 122,
   "id": "7d031282",
   "metadata": {},
   "outputs": [
    {
     "name": "stdout",
     "output_type": "stream",
     "text": [
      "[t-SNE] Computing 91 nearest neighbors...\n",
      "[t-SNE] Indexed 10003 samples in 0.001s...\n",
      "[t-SNE] Computed neighbors for 10003 samples in 1.091s...\n",
      "[t-SNE] Computed conditional probabilities for sample 1000 / 10003\n",
      "[t-SNE] Computed conditional probabilities for sample 2000 / 10003\n",
      "[t-SNE] Computed conditional probabilities for sample 3000 / 10003\n",
      "[t-SNE] Computed conditional probabilities for sample 4000 / 10003\n",
      "[t-SNE] Computed conditional probabilities for sample 5000 / 10003\n",
      "[t-SNE] Computed conditional probabilities for sample 6000 / 10003\n",
      "[t-SNE] Computed conditional probabilities for sample 7000 / 10003\n",
      "[t-SNE] Computed conditional probabilities for sample 8000 / 10003\n",
      "[t-SNE] Computed conditional probabilities for sample 9000 / 10003\n",
      "[t-SNE] Computed conditional probabilities for sample 10000 / 10003\n",
      "[t-SNE] Computed conditional probabilities for sample 10003 / 10003\n",
      "[t-SNE] Mean sigma: 0.045221\n",
      "[t-SNE] KL divergence after 250 iterations with early exaggeration: 71.065636\n",
      "[t-SNE] KL divergence after 1000 iterations: 1.563685\n"
     ]
    },
    {
     "data": {
      "image/png": "[encoded data removed]",
      "text/plain": [
       "<Figure size 576x576 with 1 Axes>"
      ]
     },
     "metadata": {
      "needs_background": "light"
     },
     "output_type": "display_data"
    },
    {
     "data": {
      "text/plain": [
       "TSNE(random_state=42, verbose=1)"
      ]
     },
     "execution_count": 122,
     "metadata": {},
     "output_type": "execute_result"
    }
   ],
   "source": [
    "visualize(fps, fingerprints_to_highlight = [fps1, fps2])"
   ]
  },
  {
   "cell_type": "code",
   "execution_count": null,
   "id": "2a137789",
   "metadata": {},
   "outputs": [],
   "source": []
  }
 ],
 "metadata": {
  "kernelspec": {
   "display_name": "Python 3",
   "language": "python",
   "name": "python3"
  },
  "language_info": {
   "codemirror_mode": {
    "name": "ipython",
    "version": 3
   },
   "file_extension": ".py",
   "mimetype": "text/x-python",
   "name": "python",
   "nbconvert_exporter": "python",
   "pygments_lexer": "ipython3",
   "version": "3.7.10"
  }
 },
 "nbformat": 4,
 "nbformat_minor": 5
}
